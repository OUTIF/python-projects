{
  "nbformat": 4,
  "nbformat_minor": 0,
  "metadata": {
    "colab": {
      "provenance": [],
      "authorship_tag": "ABX9TyM1TRqoASdcbNJIcHbr/5lg",
      "include_colab_link": true
    },
    "kernelspec": {
      "name": "python3",
      "display_name": "Python 3"
    },
    "language_info": {
      "name": "python"
    }
  },
  "cells": [
    {
      "cell_type": "markdown",
      "metadata": {
        "id": "view-in-github",
        "colab_type": "text"
      },
      "source": [
        "<a href=\"https://colab.research.google.com/github/OUTIF/python-projects/blob/main/numericalHomework_py.ipynb\" target=\"_parent\"><img src=\"https://colab.research.google.com/assets/colab-badge.svg\" alt=\"Open In Colab\"/></a>"
      ]
    },
    {
      "cell_type": "code",
      "execution_count": null,
      "metadata": {
        "id": "Yj9t8A-ePGjN",
        "outputId": "c0a9c5c3-006a-4b92-f12f-67af7038cf84",
        "colab": {
          "base_uri": "https://localhost:8080/"
        }
      },
      "outputs": [
        {
          "output_type": "stream",
          "name": "stdout",
          "text": [
            "Iter            x         f(x)       ea (%)\n",
            "--------------------------------------------\n",
            "   1     0.700000     1.470000   100.000000\n",
            "   2     0.953448     0.192708    26.582278\n",
            "   3     0.998481     0.006084     4.510103\n",
            "   4     0.999998     0.000007     0.151749\n",
            "   5     1.000000     0.000000     0.000173\n",
            "   6     1.000000     0.000000     0.000000\n",
            "--------------------------------------------\n",
            "\n",
            "Final Results:\n",
            "Root = 1.000000\n",
            "Approx. Relative Error = 0.000000%\n",
            "Iterations = 6\n"
          ]
        }
      ],
      "source": [
        "# NMAE:YOUSIF HUSSSEIN JABBAR AL-GBURI\n",
        "# ID  :152120231144\n",
        "\n",
        "def newton_raphson(f, df, x0, es=0.0001, maxit=50):\n",
        "    iter = 0\n",
        "    print(f\"{'Iter':>4} {'x':>12} {'f(x)':>12} {'ea (%)':>12}\")\n",
        "    print(\"-\" * 44)\n",
        "\n",
        "    while True:\n",
        "        fx = f(x0)\n",
        "        dfx = df(x0)\n",
        "        x1 = x0 - fx / dfx\n",
        "        iter += 1\n",
        "        ea = abs((x1 - x0) / x1) * 100 if x1 != 0 else None\n",
        "\n",
        "        # Print each iteration row\n",
        "        print(f\"{iter:4d} {x1:12.6f} {f(x1):12.6f} {ea if ea else 0:12.6f}\")\n",
        "\n",
        "        if ea is not None and (ea <= es or iter >= maxit):\n",
        "            break\n",
        "        x0 = x1\n",
        "    return x1, ea, iter\n",
        "\n",
        "# Define the function and derivative\n",
        "f = lambda x: 3*x**2 - 10*x + 7\n",
        "df = lambda x: 6*x - 10\n",
        "\n",
        "# Call the method\n",
        "root, ea, iter = newton_raphson(f, df, 0)\n",
        "\n",
        "print(\"-\" * 44)\n",
        "print(\"\\nFinal Results:\")\n",
        "print(f\"Root = {root:.6f}\")\n",
        "print(f\"Approx. Relative Error = {ea:.6f}%\")\n",
        "print(f\"Iterations = {iter}\")\n"
      ]
    }
  ]
}